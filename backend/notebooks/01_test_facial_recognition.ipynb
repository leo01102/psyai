{
 "cells": [
  {
   "cell_type": "markdown",
   "id": "d30437ee",
   "metadata": {},
   "source": [
    "# Jupyter notebooks para experimentación, análisis y pruebas"
   ]
  }
 ],
 "metadata": {
  "language_info": {
   "name": "python"
  }
 },
 "nbformat": 4,
 "nbformat_minor": 5
}
