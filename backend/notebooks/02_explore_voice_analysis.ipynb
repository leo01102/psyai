{
 "cells": [
  {
   "cell_type": "markdown",
   "id": "6be57d83",
   "metadata": {},
   "source": [
    "# Jupyter notebooks para experimentación, análisis y pruebas"
   ]
  }
 ],
 "metadata": {
  "language_info": {
   "name": "python"
  }
 },
 "nbformat": 4,
 "nbformat_minor": 5
}
